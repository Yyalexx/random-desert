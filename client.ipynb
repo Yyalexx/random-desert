{
 "cells": [
  {
   "cell_type": "code",
   "execution_count": 5,
   "id": "c5e91e16",
   "metadata": {},
   "outputs": [
    {
     "name": "stdout",
     "output_type": "stream",
     "text": [
      "Sending request\n",
      "{'recipe': 'SVEKLU V KASTRULU KIN EPTA I VOT TEBE BORCH'}\n"
     ]
    }
   ],
   "source": [
    "import requests\n",
    "print('Sending request')\n",
    "res = requests.post('http://localhost:5000/api/add_message', json={\"food\":\"GULYASH\"})\n",
    "if res.ok:\n",
    "    print(res.json())"
   ]
  },
  {
   "cell_type": "code",
   "execution_count": null,
   "id": "51a3cb36",
   "metadata": {},
   "outputs": [],
   "source": []
  }
 ],
 "metadata": {
  "kernelspec": {
   "display_name": "Python 3 (ipykernel)",
   "language": "python",
   "name": "python3"
  },
  "language_info": {
   "codemirror_mode": {
    "name": "ipython",
    "version": 3
   },
   "file_extension": ".py",
   "mimetype": "text/x-python",
   "name": "python",
   "nbconvert_exporter": "python",
   "pygments_lexer": "ipython3",
   "version": "3.9.12"
  }
 },
 "nbformat": 4,
 "nbformat_minor": 5
}
