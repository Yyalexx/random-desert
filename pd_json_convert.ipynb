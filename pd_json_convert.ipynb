{
 "cells": [
  {
   "cell_type": "code",
   "execution_count": 2,
   "metadata": {},
   "outputs": [],
   "source": [
    "import pandas as pd"
   ]
  },
  {
   "cell_type": "code",
   "execution_count": 3,
   "metadata": {},
   "outputs": [],
   "source": [
    "recipe_df = pd.read_csv('./recipe_df.csv')"
   ]
  },
  {
   "cell_type": "code",
   "execution_count": 26,
   "metadata": {},
   "outputs": [],
   "source": [
    "rec_name = 'Бефстроганов классический'"
   ]
  },
  {
   "cell_type": "code",
   "execution_count": 27,
   "metadata": {},
   "outputs": [],
   "source": [
    "rec = recipe_df[recipe_df.recipe_name == rec_name][['ingredients', 'quantity']]"
   ]
  },
  {
   "cell_type": "code",
   "execution_count": 28,
   "metadata": {},
   "outputs": [
    {
     "data": {
      "text/html": [
       "<div>\n",
       "<style scoped>\n",
       "    .dataframe tbody tr th:only-of-type {\n",
       "        vertical-align: middle;\n",
       "    }\n",
       "\n",
       "    .dataframe tbody tr th {\n",
       "        vertical-align: top;\n",
       "    }\n",
       "\n",
       "    .dataframe thead th {\n",
       "        text-align: right;\n",
       "    }\n",
       "</style>\n",
       "<table border=\"1\" class=\"dataframe\">\n",
       "  <thead>\n",
       "    <tr style=\"text-align: right;\">\n",
       "      <th></th>\n",
       "      <th>ingredients</th>\n",
       "      <th>quantity</th>\n",
       "    </tr>\n",
       "  </thead>\n",
       "  <tbody>\n",
       "    <tr>\n",
       "      <th>0</th>\n",
       "      <td>Мясо говядины (филейная часть, кострец)</td>\n",
       "      <td>500 г</td>\n",
       "    </tr>\n",
       "    <tr>\n",
       "      <th>1</th>\n",
       "      <td>Лук репчатый крупный</td>\n",
       "      <td>1 шт.</td>\n",
       "    </tr>\n",
       "    <tr>\n",
       "      <th>2</th>\n",
       "      <td>Мука</td>\n",
       "      <td>2 ч. ложки</td>\n",
       "    </tr>\n",
       "    <tr>\n",
       "      <th>3</th>\n",
       "      <td>Сметана</td>\n",
       "      <td>2-3 полных ст. ложки</td>\n",
       "    </tr>\n",
       "    <tr>\n",
       "      <th>4</th>\n",
       "      <td>Масло растительное</td>\n",
       "      <td>для жарки</td>\n",
       "    </tr>\n",
       "    <tr>\n",
       "      <th>5</th>\n",
       "      <td>Зелень укропа</td>\n",
       "      <td>по вкусу</td>\n",
       "    </tr>\n",
       "  </tbody>\n",
       "</table>\n",
       "</div>"
      ],
      "text/plain": [
       "                               ingredients              quantity\n",
       "0  Мясо говядины (филейная часть, кострец)                 500 г\n",
       "1                     Лук репчатый крупный                 1 шт.\n",
       "2                                     Мука            2 ч. ложки\n",
       "3                                  Сметана  2-3 полных ст. ложки\n",
       "4                       Масло растительное             для жарки\n",
       "5                            Зелень укропа              по вкусу"
      ]
     },
     "execution_count": 28,
     "metadata": {},
     "output_type": "execute_result"
    }
   ],
   "source": [
    "rec"
   ]
  },
  {
   "cell_type": "code",
   "execution_count": 29,
   "metadata": {},
   "outputs": [],
   "source": [
    "recipe_json = {}\n",
    "for i in range(len(rec.ingredients)):\n",
    "    recipe_json[rec.ingredients[i]] = rec.quantity[i]"
   ]
  },
  {
   "cell_type": "code",
   "execution_count": 34,
   "metadata": {},
   "outputs": [],
   "source": [
    "recipe_json = str(recipe_json)"
   ]
  },
  {
   "cell_type": "code",
   "execution_count": 35,
   "metadata": {},
   "outputs": [],
   "source": [
    "#export JSON file\n",
    "with open('./recipe.json', 'w') as f:\n",
    " f.write(recipe_json)"
   ]
  },
  {
   "attachments": {},
   "cell_type": "markdown",
   "metadata": {},
   "source": [
    "### В папке ***sbornik-recipes.ru*** представлены ноутбуки парсинга сайта [sbornik-recipes.ru](http://sbornik-recipes.ru/)  и обработки его результатов, ноутбуки формирования базы данных PostgreSQL, а также файлы промежуточных результатов.\n",
    "\n",
    "## Ноутбуки:  \n",
    "- **parsing.ipynb** - парсинг сайта, формирует 2 файла:  \n",
    "\n",
    "                - *recipe_df.csv* - датафрейм рецептов,  \n",
    "                - *ingr_df.csv*  - датафрейм уникальных ингредиентов;  \n",
    "                \n",
    "- **pd_json_convert.ipynb** - преобразование выбранных рецептов в JSON файл;  \n",
    "- **гггггггееееееееее** - формирование базы данных PostgreSQL;  \n",
    "- **df_to_sql_db.ipynb** - экспорт датафреймов ***recipe_df.csv*** и ***ingr_df.csv*** в базу данных PostgreSQL.\n",
    "\n",
    "## Файлы:  \n",
    "- **1_recipe.json** - JSON файл с одним рецептом,\n",
    "- **5_recipes.json** - JSON файл с 5-ю рецептами."
   ]
  }
 ],
 "metadata": {
  "kernelspec": {
   "display_name": "Python 3",
   "language": "python",
   "name": "python3"
  },
  "language_info": {
   "codemirror_mode": {
    "name": "ipython",
    "version": 3
   },
   "file_extension": ".py",
   "mimetype": "text/x-python",
   "name": "python",
   "nbconvert_exporter": "python",
   "pygments_lexer": "ipython3",
   "version": "3.8.10 (default, Nov 14 2022, 12:59:47) \n[GCC 9.4.0]"
  },
  "orig_nbformat": 4,
  "vscode": {
   "interpreter": {
    "hash": "31f2aee4e71d21fbe5cf8b01ff0e069b9275f58929596ceb00d14d90e3e16cd6"
   }
  }
 },
 "nbformat": 4,
 "nbformat_minor": 2
}
