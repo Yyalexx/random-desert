{
 "cells": [
  {
   "cell_type": "code",
   "execution_count": 12,
   "metadata": {},
   "outputs": [],
   "source": [
    "import requests # Импортируем библиотеку requests\n",
    "from bs4 import BeautifulSoup # Импортируем библиотеку BeautifulSoup\n",
    "import re \n",
    "import pyautogui"
   ]
  },
  {
   "cell_type": "code",
   "execution_count": 13,
   "metadata": {},
   "outputs": [],
   "source": [
    "url = pyautogui.prompt(text=\"Выберите рецепт на сайте https://www.russianfood.com и вставьте его адрес сюда\", \n",
    "                                    title='Выбор рецепта' , \n",
    "                                    default='https://www.russianfood.com/recipes/recipe.php?rid=126032')"
   ]
  },
  {
   "cell_type": "code",
   "execution_count": 14,
   "metadata": {},
   "outputs": [],
   "source": [
    "response = requests.get(url, headers={\n",
    "    'User-Agent': 'Mozilla/5.0 (X11; Linux x86_64) AppleWebKit/537.36 (KHTML, like Gecko) Chrome/108.0.0.0 Safari/537.36'}) # Выполняем GET-запрос, содержимое ответа присваивается переменной response\n",
    "page = BeautifulSoup(response.text, 'html.parser') # Создаём объект BeautifulSoup, указывая html-парсер"
   ]
  },
  {
   "cell_type": "code",
   "execution_count": 15,
   "metadata": {},
   "outputs": [
    {
     "data": {
      "text/plain": [
       "{'Мясо говядины (филейная часть, кострец)': '500 г',\n",
       " 'Лук репчатый крупный': '1 шт.',\n",
       " 'Мука': '2 ч. ложки',\n",
       " 'Сметана': '2-3 полных ст. ложки',\n",
       " 'Масло растительное': 'для жарки',\n",
       " 'Зелень укропа': 'по вкусу'}"
      ]
     },
     "execution_count": 15,
     "metadata": {},
     "output_type": "execute_result"
    }
   ],
   "source": [
    "page_recipe = page.find_all('span', class_=\"\")\n",
    "ingr_list = []\n",
    "for i in range(len(page_recipe)):\n",
    "    ingr_list.append(page_recipe[i].string)\n",
    "ingr_list    \n",
    "d = {}\n",
    "for line in ingr_list[2:-2]:\n",
    "    k, v = re.split(' . ', line, maxsplit=1)\n",
    "    d[k] = v\n",
    "d\n"
   ]
  }
 ],
 "metadata": {
  "kernelspec": {
   "display_name": "Python 3",
   "language": "python",
   "name": "python3"
  },
  "language_info": {
   "codemirror_mode": {
    "name": "ipython",
    "version": 3
   },
   "file_extension": ".py",
   "mimetype": "text/x-python",
   "name": "python",
   "nbconvert_exporter": "python",
   "pygments_lexer": "ipython3",
   "version": "3.8.10"
  },
  "orig_nbformat": 4,
  "vscode": {
   "interpreter": {
    "hash": "31f2aee4e71d21fbe5cf8b01ff0e069b9275f58929596ceb00d14d90e3e16cd6"
   }
  }
 },
 "nbformat": 4,
 "nbformat_minor": 2
}
