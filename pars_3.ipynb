{
 "cells": [
  {
   "cell_type": "code",
   "execution_count": 2,
   "metadata": {},
   "outputs": [],
   "source": [
    "import requests # Импортируем библиотеку requests\n",
    "from bs4 import BeautifulSoup # Импортируем библиотеку BeautifulSoup\n",
    "import re \n",
    "import pyautogui"
   ]
  },
  {
   "cell_type": "code",
   "execution_count": 3,
   "metadata": {},
   "outputs": [],
   "source": [
    "url = pyautogui.prompt(text=\"Выберите рецепт на сайте https://www.russianfood.com и вставьте его адрес сюда\", \n",
    "                                    title='Выбор рецепта' , \n",
    "                                    default='https://www.russianfood.com/recipes/recipe.php?rid=126032')"
   ]
  },
  {
   "cell_type": "code",
   "execution_count": 4,
   "metadata": {},
   "outputs": [],
   "source": [
    "# Бефстроганов классический - в разделителях встречается тире\n",
    "# https://www.russianfood.com/recipes/recipe.php?rid=116909"
   ]
  },
  {
   "cell_type": "code",
   "execution_count": 5,
   "metadata": {},
   "outputs": [],
   "source": [
    "# Выполняем GET-запрос, содержимое ответа присваивается переменной response\n",
    "response = requests.get(url, headers={\n",
    "    'User-Agent': 'Mozilla/5.0 (X11; Linux x86_64) AppleWebKit/537.36 (KHTML, like Gecko) Chrome/108.0.0.0 Safari/537.36'})\n",
    "page = BeautifulSoup(response.text, 'html.parser') # Создаём объект BeautifulSoup, указывая html-парсер"
   ]
  },
  {
   "cell_type": "code",
   "execution_count": 6,
   "metadata": {},
   "outputs": [
    {
     "data": {
      "text/plain": [
       "{'Вода (или бульон)': '2-2,5 л',\n",
       " 'Свекла': '1 шт.',\n",
       " 'Фасоль': '0,5 стакана',\n",
       " 'Капуста белокочанная': '200-300 г',\n",
       " 'Лук репчатый': '1 шт.',\n",
       " 'Морковь': '1 шт.',\n",
       " 'Картофель': '2-3 шт.',\n",
       " 'Корень сельдерея': '50 г',\n",
       " 'Корень петрушки': '50 г',\n",
       " 'Чернослив': '6-8 шт.',\n",
       " 'Томатная паста': '1-2 ст. ложки',\n",
       " 'Перец черный молотый': 'по вкусу',\n",
       " 'Соль': 'по вкусу',\n",
       " 'Перец сладкий': '0,5-1 шт.',\n",
       " 'Сахар': '1 ч. ложка',\n",
       " 'Лавровый лист': '1 шт.',\n",
       " 'Зелень': 'по вкусу',\n",
       " 'Растительное масло': '6 ст. ложек'}"
      ]
     },
     "execution_count": 6,
     "metadata": {},
     "output_type": "execute_result"
    }
   ],
   "source": [
    "page_recipe = page.find_all('span', class_=\"\")\n",
    "ingr_dict = {}\n",
    "for i in range(len(page_recipe)):\n",
    "    line = str(page_recipe[i].string)\n",
    "    isCyrillic = bool(re.search('[а-яА-Я]', line))\n",
    "    if isCyrillic:\n",
    "        k, v = re.split(' [^а-яА-Я0-9] ', line, maxsplit=1)\n",
    "#        k, v = re.split(' \\W ', line, maxsplit=1) #этот вариант исключает и нижнее почеркивание\n",
    "        ingr_dict[k] = v\n",
    "ingr_dict    "
   ]
  }
 ],
 "metadata": {
  "kernelspec": {
   "display_name": "Python 3",
   "language": "python",
   "name": "python3"
  },
  "language_info": {
   "codemirror_mode": {
    "name": "ipython",
    "version": 3
   },
   "file_extension": ".py",
   "mimetype": "text/x-python",
   "name": "python",
   "nbconvert_exporter": "python",
   "pygments_lexer": "ipython3",
   "version": "3.8.10"
  },
  "orig_nbformat": 4,
  "vscode": {
   "interpreter": {
    "hash": "31f2aee4e71d21fbe5cf8b01ff0e069b9275f58929596ceb00d14d90e3e16cd6"
   }
  }
 },
 "nbformat": 4,
 "nbformat_minor": 2
}
