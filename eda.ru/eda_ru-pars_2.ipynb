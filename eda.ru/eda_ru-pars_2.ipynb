{
 "cells": [
  {
   "cell_type": "code",
   "execution_count": 2,
   "metadata": {},
   "outputs": [],
   "source": [
    "import requests # Импортируем библиотеку requests для запросов\n",
    "from bs4 import BeautifulSoup # Импортируем библиотеку BeautifulSoup для парсинга\n",
    "import bleach  # Импортируем библиотеку bleach для очистки текста от тэгов\n",
    "import re      # Импортируем библиотеку для регулярных выражений\n",
    "import pyautogui  # Импортируем библиотеку для интерактивного ввода\n",
    "import pandas as pd\n",
    "import os.path"
   ]
  },
  {
   "cell_type": "code",
   "execution_count": 3,
   "metadata": {},
   "outputs": [],
   "source": [
    "columns_list=['recipe_id', 'cuisine', 'meal_mode', 'recipe_name', \n",
    "            'portions', 'calories', 'proteinContent',\n",
    "            'fatContent', 'carbohydrateContent', 'ingr_name', \n",
    "            'ingr_qwn', 'measure', 'quantity', 'text']"
   ]
  },
  {
   "cell_type": "code",
   "execution_count": 4,
   "metadata": {},
   "outputs": [
    {
     "name": "stdout",
     "output_type": "stream",
     "text": [
      "0\n"
     ]
    }
   ],
   "source": [
    "# Если файлы таблиц существуют, считываем их\n",
    "if os.path.isfile('./ingr_df.csv'):\n",
    "    # Считываем таблицу ингредиентов из файла.\n",
    "    ingr_df = pd.read_csv('./ingr_df.csv')\n",
    "    print('0')\n",
    "else:\n",
    "    # Создаем таблицу таблицу ингредиентов, если файла с ней нет.\n",
    "    ingr_df = pd.DataFrame(columns=['ingr_id', 'ingr_name'])\n",
    "    \n",
    "if os.path.isfile('./recipe_df.csv'):\n",
    "    # Считываем таблицу рецептов из файла.\n",
    "    recipe_df = pd.read_csv('./recipe_df.csv')\n",
    "else:\n",
    "    # Создаем таблицу таблицу рецептов, если файла с ней нет.\n",
    "    recipe_df = pd.DataFrame(columns=columns_list)\n",
    "if os.path.isfile('./url_df_2.csv'):\n",
    "    # Считываем таблицу ингредиентов из файла.\n",
    "    url_df = pd.read_csv('./url_df_2.csv')\n",
    "else:\n",
    "    # Создаем таблицу таблицу ингредиентов, если файла с ней нет.\n",
    "    url_df = pd.DataFrame(columns=['url'])"
   ]
  },
  {
   "cell_type": "code",
   "execution_count": 5,
   "metadata": {},
   "outputs": [],
   "source": [
    "def add_ingr(ingr_name, ingr_df):\n",
    "    \"\"\"\n",
    "    Функция добавляет ингредиент с уникальным именем в таблицу ингредиентов\n",
    "\n",
    "        Args:\n",
    "            ingr_name (string): наименование ингредиента\n",
    "            ingr_df (dataframe): таблица ингредиентов\n",
    " \n",
    "        Returns:\n",
    "            ingr_df (dataframe): таблица ингредиентов с добавленным уникальным ингредиентом    \n",
    "    \"\"\"\n",
    "    # dataframe текущего ингредиента\n",
    "    curr_ingr = pd.DataFrame(columns=['ingr_id', 'ingr_name'], index=range(1))\n",
    "    curr_ingr.ingr_name = ingr_name # наименование текущего ингредиента\n",
    "    curr_ingr.ingr_id = ingr_df.ingr_id.count() # id текущего ингредиента\n",
    "    # присоединение текущего ингредиента к исходному dataframe \n",
    "    ingr_df = pd.concat([ingr_df, curr_ingr], ignore_index=True)\n",
    "    # удаление ингредиента, если такое наименование уже было в исходном dataframe  \n",
    "    ingr_df.drop_duplicates(subset=['ingr_name'], inplace=True)\n",
    "    return ingr_df"
   ]
  },
  {
   "cell_type": "code",
   "execution_count": 6,
   "metadata": {},
   "outputs": [],
   "source": [
    "url = 'https://eda.ru/recepty/zavtraki/sirniki-iz-tvoroga-18506'\n",
    "url = 'https://eda.ru/recepty/vypechka-deserty/klassicheskaja-sharlotka-21916'\n",
    "url = 'https://eda.ru/recepty/osnovnye-blyuda/svinina-s-karamelizovannoy-morkovyu-152728'"
   ]
  },
  {
   "cell_type": "code",
   "execution_count": 7,
   "metadata": {},
   "outputs": [],
   "source": [
    "url = pyautogui.prompt(text=\"Выберите рецепт на сайте https://eda.ru и вставьте его адрес сюда\", \n",
    "                                    title='Выбор рецепта' , \n",
    "                                    default='')"
   ]
  },
  {
   "cell_type": "code",
   "execution_count": 8,
   "metadata": {},
   "outputs": [],
   "source": [
    "# Выполняем GET-запрос, содержимое ответа присваивается переменной response\n",
    "response = requests.get(url, headers={\n",
    "    'User-Agent': 'Mozilla/5.0 (X11; Linux x86_64) AppleWebKit/537.36 (KHTML, like Gecko) Chrome/108.0.0.0 Safari/537.36'})\n",
    "page = BeautifulSoup(response.text, 'html.parser') # Создаём объект BeautifulSoup, указывая html-парсер"
   ]
  },
  {
   "cell_type": "code",
   "execution_count": 9,
   "metadata": {},
   "outputs": [],
   "source": [
    "# Кухня\n",
    "try:\n",
    "    cuisine = page.title.text.split(\" – \")[1].split(\":\")[0]\n",
    "    print(cuisine)\n",
    "except:\n",
    "    cuisine = None\n",
    "    print('Нет cuisine')"
   ]
  },
  {
   "cell_type": "code",
   "execution_count": 16,
   "metadata": {},
   "outputs": [
    {
     "data": {
      "text/plain": [
       "'Завтраки'"
      ]
     },
     "execution_count": 16,
     "metadata": {},
     "output_type": "execute_result"
    }
   ],
   "source": [
    "try:\n",
    "    meal_mode = page.title.text.split(\": \")[1].split(\".\")[0]\n",
    "    print(meal_mode)\n",
    "except:\n",
    "    meal_mode = None\n",
    "    print('Нет meal_mode')"
   ]
  },
  {
   "cell_type": "code",
   "execution_count": 867,
   "metadata": {},
   "outputs": [
    {
     "data": {
      "text/plain": [
       "'Омлет с моцареллой и помидорами'"
      ]
     },
     "execution_count": 867,
     "metadata": {},
     "output_type": "execute_result"
    }
   ],
   "source": [
    "# Название рецепта\n",
    "try:\n",
    "    recipe_name = page.find('h1').text.replace('\\xa0',' ')\n",
    "    print(recipe_name)\n",
    "except:\n",
    "    recipe_name = None\n",
    "    print('Нет recipe_name')"
   ]
  },
  {
   "cell_type": "code",
   "execution_count": 868,
   "metadata": {},
   "outputs": [
    {
     "name": "stdout",
     "output_type": "stream",
     "text": [
      "1\n"
     ]
    }
   ],
   "source": [
    "try:\n",
    "    portions = page.find(itemprop=\"recipeYield\")\n",
    "    portions = int(bleach.clean(str(portions), tags=[], strip=True))\n",
    "    print(portions)\n",
    "except:\n",
    "    portions = None\n",
    "    print('Нет portions')"
   ]
  },
  {
   "cell_type": "code",
   "execution_count": 869,
   "metadata": {},
   "outputs": [
    {
     "name": "stdout",
     "output_type": "stream",
     "text": [
      "570\n"
     ]
    }
   ],
   "source": [
    "try:\n",
    "    calories = page.find(itemprop=\"calories\")\n",
    "    calories= int(bleach.clean(str(calories), tags=[], strip=True))\n",
    "    print(calories)\n",
    "except:\n",
    "    calories = None\n",
    "    print('Нет calories')"
   ]
  },
  {
   "cell_type": "code",
   "execution_count": 870,
   "metadata": {},
   "outputs": [
    {
     "name": "stdout",
     "output_type": "stream",
     "text": [
      "33\n"
     ]
    }
   ],
   "source": [
    "try:\n",
    "    proteinContent = page.find(itemprop=\"proteinContent\")\n",
    "    proteinContent= int(bleach.clean(str(proteinContent), tags=[], strip=True))\n",
    "    print(proteinContent)\n",
    "except:\n",
    "    proteinContent = None\n",
    "    print('Нет proteinContent')"
   ]
  },
  {
   "cell_type": "code",
   "execution_count": 871,
   "metadata": {},
   "outputs": [
    {
     "name": "stdout",
     "output_type": "stream",
     "text": [
      "48\n"
     ]
    }
   ],
   "source": [
    "try:\n",
    "    itemProp=\"fatContent\"\n",
    "    fatContent = page.find(itemprop=\"fatContent\")\n",
    "    fatContent= int(bleach.clean(str(fatContent), tags=[], strip=True))\n",
    "    print(fatContent)\n",
    "except:\n",
    "    fatContent = None\n",
    "    print('Нет fatContent')"
   ]
  },
  {
   "cell_type": "code",
   "execution_count": 872,
   "metadata": {},
   "outputs": [
    {
     "name": "stdout",
     "output_type": "stream",
     "text": [
      "5\n"
     ]
    }
   ],
   "source": [
    "try:\n",
    "    carbohydrateContent = page.find(itemprop=\"carbohydrateContent\")\n",
    "    carbohydrateContent= int(bleach.clean(str(carbohydrateContent), tags=[], strip=True))\n",
    "    print(carbohydrateContent)\n",
    "except:\n",
    "    carbohydrateContent = None\n",
    "    print('Нет carbohydrateContent')"
   ]
  },
  {
   "cell_type": "code",
   "execution_count": 873,
   "metadata": {},
   "outputs": [
    {
     "name": "stdout",
     "output_type": "stream",
     "text": [
      "['Куриное яйцо', 'Помидоры черри', 'Сливочное масло', 'Сыр моцарелла', 'Зеленый базилик ', 'Оливковое масло', 'Соль', 'Молотый черный перец']\n"
     ]
    }
   ],
   "source": [
    "ingr_names = page.find_all(itemprop=\"recipeIngredient\")\n",
    "ingr_names_list = []\n",
    "for ingr_name in ingr_names:\n",
    "    ingr_name =  bleach.clean(str(ingr_name), tags=[], strip=True)\n",
    "    ingr_names_list.append(ingr_name)\n",
    "print(ingr_names_list)"
   ]
  },
  {
   "cell_type": "code",
   "execution_count": 874,
   "metadata": {},
   "outputs": [
    {
     "name": "stdout",
     "output_type": "stream",
     "text": [
      "['3 штуки', '4 штуки', '20 г', '50 г', '20 г', 'по вкусу', 'по вкусу', 'по вкусу']\n"
     ]
    }
   ],
   "source": [
    "ingr_qnts = page.find_all(class_=\"emotion-15im4d2\")\n",
    "iingr_qwn_list = []\n",
    "for ingr_qwn in ingr_qnts:\n",
    "    ingr_qwn =  bleach.clean(str(ingr_qwn), tags=[], strip=True)\n",
    "    iingr_qwn_list.append(ingr_qwn)\n",
    "print(iingr_qwn_list)"
   ]
  },
  {
   "cell_type": "code",
   "execution_count": 875,
   "metadata": {},
   "outputs": [
    {
     "name": "stdout",
     "output_type": "stream",
     "text": [
      "Словарь ингредиентов текущего рецепта\n",
      "{'Куриное яйцо': '3 штуки', 'Помидоры черри': '4 штуки', 'Сливочное масло': '20 г', 'Сыр моцарелла': '50 г', 'Зеленый базилик ': '20 г', 'Оливковое масло': 'по вкусу', 'Соль': 'по вкусу', 'Молотый черный перец': 'по вкусу'}\n"
     ]
    }
   ],
   "source": [
    "ingr_dict = {}\n",
    "if len(ingr_names_list) == len(iingr_qwn_list):\n",
    "    for i in range(len(ingr_names_list)):\n",
    "        ingr_dict[ingr_names_list[i]] = iingr_qwn_list[i]\n",
    "        # Добавление ингредиентов текущего рецепта в таблицу ингредиентов\n",
    "        ingr_df = add_ingr(ingr_names_list[i], ingr_df)\n",
    "    print('Словарь ингредиентов текущего рецепта')\n",
    "    print(ingr_dict)\n",
    "else:\n",
    "    print('Ошибка словаря ингредиентов')"
   ]
  },
  {
   "cell_type": "code",
   "execution_count": 876,
   "metadata": {},
   "outputs": [
    {
     "data": {
      "text/plain": [
       "'Яйца смешать с солью и перцем. В сковороде на сливочном масле немного припустить помидоры и залить яйцами.Секунд через двадцать добавить моцареллу, нарезать листья базилика и снять с огня. На одну минуту оставить сковороду остывать, после чего полить оливковым маслом и подавать.'"
      ]
     },
     "execution_count": 876,
     "metadata": {},
     "output_type": "execute_result"
    }
   ],
   "source": [
    "# Текст рецепта\n",
    "rtl = page.find_all(itemprop=\"recipeInstructions\")\n",
    "recipe_text_list = []\n",
    "for i in range(len(rtl)):\n",
    "    recipe_step = rtl[i]\n",
    "    recipe_step = bleach.clean(str(recipe_step), tags=[], strip=True)\n",
    "    recipe_step = recipe_step.replace('\\n','').replace('\\xa0',' ')\n",
    "    if i>=9:\n",
    "        a = 2\n",
    "    else: a = 1\n",
    "    recipe_step = (\"\").join(recipe_step.split(\"Шпаргалка\")[0])\n",
    "    recipe_step = (\"\").join(recipe_step.split(\"Инструмент\")[0])[a:]\n",
    "    recipe_text_list.append(recipe_step)\n",
    "recipe_text = (\" \").join(recipe_text_list)    \n",
    "recipe_text"
   ]
  },
  {
   "cell_type": "code",
   "execution_count": 877,
   "metadata": {},
   "outputs": [
    {
     "name": "stdout",
     "output_type": "stream",
     "text": [
      "Таблица текущего рецепта\n"
     ]
    },
    {
     "data": {
      "text/html": [
       "<div>\n",
       "<style scoped>\n",
       "    .dataframe tbody tr th:only-of-type {\n",
       "        vertical-align: middle;\n",
       "    }\n",
       "\n",
       "    .dataframe tbody tr th {\n",
       "        vertical-align: top;\n",
       "    }\n",
       "\n",
       "    .dataframe thead th {\n",
       "        text-align: right;\n",
       "    }\n",
       "</style>\n",
       "<table border=\"1\" class=\"dataframe\">\n",
       "  <thead>\n",
       "    <tr style=\"text-align: right;\">\n",
       "      <th></th>\n",
       "      <th>recipe_id</th>\n",
       "      <th>recipe_name</th>\n",
       "      <th>portions</th>\n",
       "      <th>calories</th>\n",
       "      <th>proteinContent</th>\n",
       "      <th>fatContent</th>\n",
       "      <th>carbohydrateContent</th>\n",
       "      <th>ingr_name</th>\n",
       "      <th>ingr_qwn</th>\n",
       "      <th>measure</th>\n",
       "      <th>quantity</th>\n",
       "      <th>text</th>\n",
       "    </tr>\n",
       "  </thead>\n",
       "  <tbody>\n",
       "    <tr>\n",
       "      <th>0</th>\n",
       "      <td>15</td>\n",
       "      <td>Омлет с моцареллой и помидорами</td>\n",
       "      <td>1</td>\n",
       "      <td>570</td>\n",
       "      <td>33</td>\n",
       "      <td>48</td>\n",
       "      <td>5</td>\n",
       "      <td>Куриное яйцо</td>\n",
       "      <td>3 штуки</td>\n",
       "      <td>NaN</td>\n",
       "      <td>NaN</td>\n",
       "      <td>Яйца смешать с солью и перцем. В сковороде на ...</td>\n",
       "    </tr>\n",
       "    <tr>\n",
       "      <th>1</th>\n",
       "      <td>15</td>\n",
       "      <td>Омлет с моцареллой и помидорами</td>\n",
       "      <td>1</td>\n",
       "      <td>570</td>\n",
       "      <td>33</td>\n",
       "      <td>48</td>\n",
       "      <td>5</td>\n",
       "      <td>Помидоры черри</td>\n",
       "      <td>4 штуки</td>\n",
       "      <td>NaN</td>\n",
       "      <td>NaN</td>\n",
       "      <td>Яйца смешать с солью и перцем. В сковороде на ...</td>\n",
       "    </tr>\n",
       "  </tbody>\n",
       "</table>\n",
       "</div>"
      ],
      "text/plain": [
       "   recipe_id                      recipe_name  portions  calories  \\\n",
       "0         15  Омлет с моцареллой и помидорами         1       570   \n",
       "1         15  Омлет с моцареллой и помидорами         1       570   \n",
       "\n",
       "   proteinContent  fatContent  carbohydrateContent       ingr_name ingr_qwn  \\\n",
       "0              33          48                    5    Куриное яйцо  3 штуки   \n",
       "1              33          48                    5  Помидоры черри  4 штуки   \n",
       "\n",
       "  measure quantity                                               text  \n",
       "0     NaN      NaN  Яйца смешать с солью и перцем. В сковороде на ...  \n",
       "1     NaN      NaN  Яйца смешать с солью и перцем. В сковороде на ...  "
      ]
     },
     "execution_count": 877,
     "metadata": {},
     "output_type": "execute_result"
    }
   ],
   "source": [
    "# Текущий рецепт\n",
    "recipe = pd.DataFrame(columns=columns_list)\n",
    "recipe.ingr_name = pd.Series(ingr_dict.keys())\n",
    "recipe.ingr_qwn = pd.Series(ingr_dict.values())\n",
    "recipe.recipe_name = recipe_name\n",
    "recipe.portions = portions\n",
    "recipe.calories = calories\n",
    "recipe.proteinContent = proteinContent\n",
    "recipe.fatContent = fatContent\n",
    "recipe.carbohydrateContent = carbohydrateContent\n",
    "recipe.text = recipe_text\n",
    "recipe.cuisine = cuisine\n",
    "recipe.meal_mode = meal_mode\n",
    "if len(recipe_df) == 0: #если это первый рецепт в таблице\n",
    "    recipe.recipe_id = 0\n",
    "else:\n",
    "    recipe.recipe_id = recipe_df.recipe_id.iloc[-1]+1\n",
    "print('Таблица текущего рецепта')\n",
    "recipe.head(2)"
   ]
  },
  {
   "cell_type": "code",
   "execution_count": 878,
   "metadata": {},
   "outputs": [],
   "source": [
    "# Присоединение текущего рецепта к таблице рецептов\n",
    "recipe_df = pd.concat([recipe_df, recipe], ignore_index=True)\n",
    "# удаление дубликатов рецептов \n",
    "recipe_df.drop_duplicates(inplace=True, subset=['recipe_name', 'ingr_name'])"
   ]
  },
  {
   "cell_type": "code",
   "execution_count": 879,
   "metadata": {},
   "outputs": [],
   "source": [
    "# Присоединение текущего url к таблице url\n",
    "url_curr_df = pd.DataFrame(columns=['url'], index=range(1))\n",
    "url_curr_df.url = url\n",
    "url_df = pd.concat([url_df, url_curr_df], ignore_index=True)\n",
    "# удаление дубликатов рецептов \n",
    "url_df.drop_duplicates(inplace=True)"
   ]
  },
  {
   "cell_type": "code",
   "execution_count": 880,
   "metadata": {},
   "outputs": [],
   "source": [
    "# Запись в файлы\n",
    "recipe_df.to_csv('./recipe_df.csv', index=False)\n",
    "ingr_df.to_csv('./ingr_df.csv', index=False)\n",
    "url_df.to_csv('./url_df_2.csv', index=False)"
   ]
  }
 ],
 "metadata": {
  "kernelspec": {
   "display_name": "Python 3",
   "language": "python",
   "name": "python3"
  },
  "language_info": {
   "codemirror_mode": {
    "name": "ipython",
    "version": 3
   },
   "file_extension": ".py",
   "mimetype": "text/x-python",
   "name": "python",
   "nbconvert_exporter": "python",
   "pygments_lexer": "ipython3",
   "version": "3.8.10"
  },
  "orig_nbformat": 4,
  "vscode": {
   "interpreter": {
    "hash": "31f2aee4e71d21fbe5cf8b01ff0e069b9275f58929596ceb00d14d90e3e16cd6"
   }
  }
 },
 "nbformat": 4,
 "nbformat_minor": 2
}
