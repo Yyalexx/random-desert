{
 "cells": [
  {
   "cell_type": "code",
   "execution_count": 15,
   "metadata": {},
   "outputs": [],
   "source": [
    "import pandas as pd\n",
    "# import sys to get more detailed Python exception info\n",
    "import sys\n",
    "# import the connect library for psycopg2\n",
    "import psycopg2\n",
    "# import the error handling libraries for psycopg2\n",
    "from psycopg2 import OperationalError, errorcodes, errors"
   ]
  },
  {
   "cell_type": "code",
   "execution_count": 16,
   "metadata": {},
   "outputs": [],
   "source": [
    "recipe_df = pd.read_csv('./recipe_df.csv')\n",
    "ingr_df = pd.read_csv('./ingr_df.csv')"
   ]
  },
  {
   "cell_type": "code",
   "execution_count": 17,
   "metadata": {},
   "outputs": [
    {
     "data": {
      "text/html": [
       "<div>\n",
       "<style scoped>\n",
       "    .dataframe tbody tr th:only-of-type {\n",
       "        vertical-align: middle;\n",
       "    }\n",
       "\n",
       "    .dataframe tbody tr th {\n",
       "        vertical-align: top;\n",
       "    }\n",
       "\n",
       "    .dataframe thead th {\n",
       "        text-align: right;\n",
       "    }\n",
       "</style>\n",
       "<table border=\"1\" class=\"dataframe\">\n",
       "  <thead>\n",
       "    <tr style=\"text-align: right;\">\n",
       "      <th></th>\n",
       "      <th>ingr_id</th>\n",
       "      <th>ingr_name</th>\n",
       "    </tr>\n",
       "  </thead>\n",
       "  <tbody>\n",
       "    <tr>\n",
       "      <th>0</th>\n",
       "      <td>0</td>\n",
       "      <td>Куриное филе</td>\n",
       "    </tr>\n",
       "    <tr>\n",
       "      <th>1</th>\n",
       "      <td>1</td>\n",
       "      <td>Кабачки</td>\n",
       "    </tr>\n",
       "  </tbody>\n",
       "</table>\n",
       "</div>"
      ],
      "text/plain": [
       "   ingr_id     ingr_name\n",
       "0        0  Куриное филе\n",
       "1        1       Кабачки"
      ]
     },
     "execution_count": 17,
     "metadata": {},
     "output_type": "execute_result"
    }
   ],
   "source": [
    "ingr_df.head(2)"
   ]
  },
  {
   "cell_type": "code",
   "execution_count": 18,
   "metadata": {},
   "outputs": [
    {
     "data": {
      "text/html": [
       "<div>\n",
       "<style scoped>\n",
       "    .dataframe tbody tr th:only-of-type {\n",
       "        vertical-align: middle;\n",
       "    }\n",
       "\n",
       "    .dataframe tbody tr th {\n",
       "        vertical-align: top;\n",
       "    }\n",
       "\n",
       "    .dataframe thead th {\n",
       "        text-align: right;\n",
       "    }\n",
       "</style>\n",
       "<table border=\"1\" class=\"dataframe\">\n",
       "  <thead>\n",
       "    <tr style=\"text-align: right;\">\n",
       "      <th></th>\n",
       "      <th>recipe_id</th>\n",
       "      <th>recipe_name</th>\n",
       "      <th>ingredients</th>\n",
       "      <th>quantity</th>\n",
       "      <th>text</th>\n",
       "    </tr>\n",
       "  </thead>\n",
       "  <tbody>\n",
       "    <tr>\n",
       "      <th>0</th>\n",
       "      <td>0</td>\n",
       "      <td>Курица с кабачками в духовке рецепт на 4 порци...</td>\n",
       "      <td>Куриное филе</td>\n",
       "      <td>500 гр.</td>\n",
       "      <td>Куриное филе нарезать тонкими ломтиками, после...</td>\n",
       "    </tr>\n",
       "    <tr>\n",
       "      <th>1</th>\n",
       "      <td>0</td>\n",
       "      <td>Курица с кабачками в духовке рецепт на 4 порци...</td>\n",
       "      <td>Кабачки</td>\n",
       "      <td>250 гр.</td>\n",
       "      <td>Куриное филе нарезать тонкими ломтиками, после...</td>\n",
       "    </tr>\n",
       "  </tbody>\n",
       "</table>\n",
       "</div>"
      ],
      "text/plain": [
       "   recipe_id                                        recipe_name   ingredients  \\\n",
       "0          0  Курица с кабачками в духовке рецепт на 4 порци...  Куриное филе   \n",
       "1          0  Курица с кабачками в духовке рецепт на 4 порци...       Кабачки   \n",
       "\n",
       "  quantity                                               text  \n",
       "0  500 гр.  Куриное филе нарезать тонкими ломтиками, после...  \n",
       "1  250 гр.  Куриное филе нарезать тонкими ломтиками, после...  "
      ]
     },
     "execution_count": 18,
     "metadata": {},
     "output_type": "execute_result"
    }
   ],
   "source": [
    "recipe_df.head(2)"
   ]
  },
  {
   "cell_type": "markdown",
   "metadata": {},
   "source": [
    "### Specify the connection parameters"
   ]
  },
  {
   "cell_type": "code",
   "execution_count": 19,
   "metadata": {},
   "outputs": [],
   "source": [
    "# Note: please change your database, username & password as per your own values\n",
    "\n",
    "conn_params_dic = {\n",
    "    \"host\"      : \"localhost\",\n",
    "    \"user\"      : \"postgres\",\n",
    "    \"password\"  : \"1\"\n",
    "}"
   ]
  },
  {
   "cell_type": "markdown",
   "metadata": {},
   "source": [
    "### Support Functions"
   ]
  },
  {
   "cell_type": "code",
   "execution_count": 20,
   "metadata": {},
   "outputs": [],
   "source": [
    "# Define a function that handles and parses psycopg2 exceptions\n",
    "def show_psycopg2_exception(err):\n",
    "    # get details about the exception\n",
    "    err_type, err_obj, traceback = sys.exc_info()    \n",
    "    # get the line number when exception occured\n",
    "    line_n = traceback.tb_lineno    \n",
    "    # print the connect() error\n",
    "    print (\"\\npsycopg2 ERROR:\", err, \"on line number:\", line_n)\n",
    "    print (\"psycopg2 traceback:\", traceback, \"-- type:\", err_type) \n",
    "    # psycopg2 extensions.Diagnostics object attribute\n",
    "    print (\"\\nextensions.Diagnostics:\", err.diag)    \n",
    "    # print the pgcode and pgerror exceptions\n",
    "    print (\"pgerror:\", err.pgerror)\n",
    "    print (\"pgcode:\", err.pgcode, \"\\n\")\n",
    "    \n",
    "# Define a connect function for PostgreSQL database server\n",
    "def connect(conn_params_dic):\n",
    "    conn = None\n",
    "    try:\n",
    "        print('Connecting to the PostgreSQL...........')\n",
    "        conn = psycopg2.connect(**conn_params_dic)\n",
    "        print(\"Connection successfully..................\")\n",
    "        \n",
    "    except OperationalError as err:\n",
    "        # passing exception to function\n",
    "        show_psycopg2_exception(err)        \n",
    "        # set the connection to 'None' in case of error\n",
    "        conn = None\n",
    "    return conn"
   ]
  },
  {
   "cell_type": "markdown",
   "metadata": {},
   "source": [
    "### Creates a database named recipesdb in PostgreSQL database"
   ]
  },
  {
   "cell_type": "code",
   "execution_count": 21,
   "metadata": {},
   "outputs": [
    {
     "name": "stdout",
     "output_type": "stream",
     "text": [
      "Connecting to the PostgreSQL...........\n",
      "Connection successfully..................\n",
      "\n",
      "psycopg2 ERROR: ОШИБКА:  база данных \"recipesdb\" занята другими пользователями\n",
      "DETAIL:  Эта база данных используется ещё в 1 сеансе.\n",
      " on line number: 9\n",
      "psycopg2 traceback: <traceback object at 0x00000229EC389780> -- type: <class 'psycopg2.errors.ObjectInUse'>\n",
      "\n",
      "extensions.Diagnostics: <psycopg2.extensions.Diagnostics object at 0x00000229FCB3EF90>\n",
      "pgerror: ОШИБКА:  база данных \"recipesdb\" занята другими пользователями\n",
      "DETAIL:  Эта база данных используется ещё в 1 сеансе.\n",
      "\n",
      "pgcode: 55006 \n",
      "\n"
     ]
    }
   ],
   "source": [
    "conn = connect(conn_params_dic)\n",
    "conn.autocommit = True\n",
    "\n",
    "if conn!=None:\n",
    "    \n",
    "    try:\n",
    "        cursor = conn.cursor();\n",
    "        # Dropping database recipesdb if exists\n",
    "        cursor.execute(\"DROP DATABASE IF EXISTS recipesdb;\")\n",
    "    \n",
    "        # Creating a database\n",
    "        cursor.execute(\"CREATE DATABASE recipesdb;\");\n",
    "        print(\"recipesdb database is created successfully..................\")\n",
    "    \n",
    "        # Closing the cursor & connection\n",
    "        cursor.close()\n",
    "        conn.close()\n",
    "        \n",
    "    except OperationalError as err:\n",
    "        # pass exception to function\n",
    "        show_psycopg2_exception(err)\n",
    "        # set the connection to 'None' in case of error\n",
    "        conn = None"
   ]
  },
  {
   "cell_type": "markdown",
   "metadata": {},
   "source": [
    "### Specify the connection parameters"
   ]
  },
  {
   "cell_type": "code",
   "execution_count": 22,
   "metadata": {},
   "outputs": [],
   "source": [
    "conn_params_dic = {\n",
    "    \"host\"      : \"localhost\",\n",
    "    \"database\"  : \"recipesdb\",\n",
    "    \"user\"      : \"postgres\",\n",
    "    \"password\"  : \"1\"\n",
    "}"
   ]
  },
  {
   "cell_type": "code",
   "execution_count": 23,
   "metadata": {},
   "outputs": [
    {
     "data": {
      "text/plain": [
       "ingr_id       int64\n",
       "ingr_name    object\n",
       "dtype: object"
      ]
     },
     "execution_count": 23,
     "metadata": {},
     "output_type": "execute_result"
    }
   ],
   "source": [
    "# Prepare or identify your data\n",
    "ingr_df.dtypes"
   ]
  },
  {
   "cell_type": "markdown",
   "metadata": {},
   "source": [
    "### Create a table named ingredients in PostgreSQL database"
   ]
  },
  {
   "cell_type": "code",
   "execution_count": 24,
   "metadata": {},
   "outputs": [
    {
     "name": "stdout",
     "output_type": "stream",
     "text": [
      "Connecting to the PostgreSQL...........\n",
      "Connection successfully..................\n",
      "ingredients table is created successfully..................\n"
     ]
    }
   ],
   "source": [
    "conn = connect(conn_params_dic)\n",
    "conn.autocommit = True\n",
    "\n",
    "if conn!=None:\n",
    "    \n",
    "    try:\n",
    "        cursor = conn.cursor();\n",
    "        # Dropping table ingredients if exists\n",
    "        cursor.execute(\"DROP TABLE IF EXISTS ingredients;\")\n",
    "        \n",
    "        \n",
    "        sql = '''CREATE TABLE ingredients(\n",
    "        ingr_id INT NOT NULL, \n",
    "        ingr_name VARCHAR(70) NOT NULL \n",
    "        )'''\n",
    "        # Creating a table\n",
    "        cursor.execute(sql);\n",
    "        print(\"ingredients table is created successfully..................\")\n",
    "    \n",
    "        # Closing the cursor & connection\n",
    "        cursor.close()\n",
    "        conn.close()\n",
    "        \n",
    "    except OperationalError as err:\n",
    "        # pass exception to function\n",
    "        show_psycopg2_exception(err)\n",
    "        # set the connection to 'None' in case of error\n",
    "        conn = None"
   ]
  },
  {
   "cell_type": "code",
   "execution_count": 25,
   "metadata": {},
   "outputs": [
    {
     "data": {
      "text/plain": [
       "recipe_id       int64\n",
       "recipe_name    object\n",
       "ingredients    object\n",
       "quantity       object\n",
       "text           object\n",
       "dtype: object"
      ]
     },
     "execution_count": 25,
     "metadata": {},
     "output_type": "execute_result"
    }
   ],
   "source": [
    "# Prepare or identify your data\n",
    "recipe_df.dtypes"
   ]
  },
  {
   "cell_type": "code",
   "execution_count": 26,
   "metadata": {},
   "outputs": [
    {
     "data": {
      "text/html": [
       "<div>\n",
       "<style scoped>\n",
       "    .dataframe tbody tr th:only-of-type {\n",
       "        vertical-align: middle;\n",
       "    }\n",
       "\n",
       "    .dataframe tbody tr th {\n",
       "        vertical-align: top;\n",
       "    }\n",
       "\n",
       "    .dataframe thead th {\n",
       "        text-align: right;\n",
       "    }\n",
       "</style>\n",
       "<table border=\"1\" class=\"dataframe\">\n",
       "  <thead>\n",
       "    <tr style=\"text-align: right;\">\n",
       "      <th></th>\n",
       "      <th>recipe_id</th>\n",
       "      <th>recipe_name</th>\n",
       "      <th>ingredients</th>\n",
       "      <th>quantity</th>\n",
       "      <th>text</th>\n",
       "    </tr>\n",
       "  </thead>\n",
       "  <tbody>\n",
       "    <tr>\n",
       "      <th>0</th>\n",
       "      <td>0</td>\n",
       "      <td>Курица с кабачками в духовке рецепт на 4 порци...</td>\n",
       "      <td>Куриное филе</td>\n",
       "      <td>500 гр.</td>\n",
       "      <td>Куриное филе нарезать тонкими ломтиками, после...</td>\n",
       "    </tr>\n",
       "    <tr>\n",
       "      <th>1</th>\n",
       "      <td>0</td>\n",
       "      <td>Курица с кабачками в духовке рецепт на 4 порци...</td>\n",
       "      <td>Кабачки</td>\n",
       "      <td>250 гр.</td>\n",
       "      <td>Куриное филе нарезать тонкими ломтиками, после...</td>\n",
       "    </tr>\n",
       "  </tbody>\n",
       "</table>\n",
       "</div>"
      ],
      "text/plain": [
       "   recipe_id                                        recipe_name   ingredients  \\\n",
       "0          0  Курица с кабачками в духовке рецепт на 4 порци...  Куриное филе   \n",
       "1          0  Курица с кабачками в духовке рецепт на 4 порци...       Кабачки   \n",
       "\n",
       "  quantity                                               text  \n",
       "0  500 гр.  Куриное филе нарезать тонкими ломтиками, после...  \n",
       "1  250 гр.  Куриное филе нарезать тонкими ломтиками, после...  "
      ]
     },
     "execution_count": 26,
     "metadata": {},
     "output_type": "execute_result"
    }
   ],
   "source": [
    "recipe_df.head(2)"
   ]
  },
  {
   "cell_type": "markdown",
   "metadata": {},
   "source": [
    "### Create a table named recipes in PostgreSQL database"
   ]
  },
  {
   "cell_type": "code",
   "execution_count": 27,
   "metadata": {},
   "outputs": [
    {
     "name": "stdout",
     "output_type": "stream",
     "text": [
      "Connecting to the PostgreSQL...........\n",
      "Connection successfully..................\n",
      "recipes table is created successfully..................\n"
     ]
    }
   ],
   "source": [
    "conn = connect(conn_params_dic)\n",
    "conn.autocommit = True\n",
    "\n",
    "if conn!=None:\n",
    "    \n",
    "    try:\n",
    "        cursor = conn.cursor();\n",
    "        # Dropping table recipes if exists\n",
    "        cursor.execute(\"DROP TABLE IF EXISTS recipes;\")\n",
    "        \n",
    "        \n",
    "        sql = '''CREATE TABLE recipes(\n",
    "        recipe_id INT NOT NULL,\n",
    "        recipe_name VARCHAR(200) NOT NULL, \n",
    "        ingredients VARCHAR(70) NOT NULL,\n",
    "        quantity VARCHAR(70) NOT NULL,\n",
    "        text TEXT NOT NULL \n",
    "        )'''\n",
    "        # Creating a table\n",
    "        cursor.execute(sql);\n",
    "        print(\"recipes table is created successfully..................\")\n",
    "    \n",
    "        # Closing the cursor & connection\n",
    "        cursor.close()\n",
    "        conn.close()\n",
    "        \n",
    "    except OperationalError as err:\n",
    "        # pass exception to function\n",
    "        show_psycopg2_exception(err)\n",
    "        # set the connection to 'None' in case of error\n",
    "        conn = None"
   ]
  }
 ],
 "metadata": {
  "kernelspec": {
   "display_name": "Python 3.9.12 64-bit",
   "language": "python",
   "name": "python3"
  },
  "language_info": {
   "codemirror_mode": {
    "name": "ipython",
    "version": 3
   },
   "file_extension": ".py",
   "mimetype": "text/x-python",
   "name": "python",
   "nbconvert_exporter": "python",
   "pygments_lexer": "ipython3",
   "version": "3.9.12"
  },
  "orig_nbformat": 4,
  "vscode": {
   "interpreter": {
    "hash": "93e5499867a482d1f69126f65754e04e21327fbe16c28c259dff18a59fe0a8c0"
   }
  }
 },
 "nbformat": 4,
 "nbformat_minor": 2
}
