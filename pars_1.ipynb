{
 "cells": [
  {
   "cell_type": "code",
   "execution_count": 1,
   "metadata": {},
   "outputs": [],
   "source": [
    "#import numpy as np\n",
    "#import cv2 as cv\n",
    "import requests # Импортируем библиотеку requests\n",
    "from bs4 import BeautifulSoup # Импортируем библиотеку BeautifulSoup\n",
    "import re \n",
    "import tkinter\n",
    "import tk\n",
    "from tkinter import ttk\n",
    "import pyautogui"
   ]
  },
  {
   "cell_type": "code",
   "execution_count": 2,
   "metadata": {},
   "outputs": [],
   "source": [
    "url = pyautogui.prompt(text=\"Выберите рецепт на сайте https://www.russianfood.com и вставьте его адрес сюда\", \n",
    "                                    title='Выбор рецепта' , \n",
    "                                    default='https://www.russianfood.com/recipes/recipe.php?rid=126032')"
   ]
  },
  {
   "cell_type": "code",
   "execution_count": 3,
   "metadata": {},
   "outputs": [],
   "source": [
    "#url = 'https://www.russianfood.com/recipes/recipe.php?rid=126032'"
   ]
  },
  {
   "cell_type": "code",
   "execution_count": 4,
   "metadata": {},
   "outputs": [],
   "source": [
    "response = requests.get(url, headers={\n",
    "    'User-Agent': 'Mozilla/5.0 (X11; Linux x86_64) AppleWebKit/537.36 (KHTML, like Gecko) Chrome/108.0.0.0 Safari/537.36'}) # Выполняем GET-запрос, содержимое ответа присваивается переменной response\n",
    "page = BeautifulSoup(response.text, 'html.parser') # Создаём объект BeautifulSoup, указывая html-парсер"
   ]
  },
  {
   "cell_type": "code",
   "execution_count": 5,
   "metadata": {},
   "outputs": [
    {
     "data": {
      "text/plain": [
       "['Вода (или бульон) - 2-2,5 л',\n",
       " 'Свекла - 1 шт.',\n",
       " 'Фасоль - 0,5 стакана',\n",
       " 'Капуста белокочанная - 200-300 г',\n",
       " 'Лук репчатый - 1 шт.',\n",
       " 'Морковь - 1 шт.',\n",
       " 'Картофель - 2-3 шт.',\n",
       " 'Корень сельдерея - 50 г',\n",
       " 'Корень петрушки - 50 г',\n",
       " 'Чернослив - 6-8 шт.',\n",
       " 'Томатная паста - 1-2 ст. ложки',\n",
       " 'Перец черный молотый - по вкусу',\n",
       " 'Соль - по вкусу',\n",
       " 'Перец сладкий - 0,5-1 шт.',\n",
       " 'Сахар - 1 ч. ложка',\n",
       " 'Лавровый лист - 1 шт.',\n",
       " 'Зелень - по вкусу',\n",
       " 'Растительное масло - 6 ст. ложек']"
      ]
     },
     "execution_count": 5,
     "metadata": {},
     "output_type": "execute_result"
    }
   ],
   "source": [
    "page_recipe = page.find_all('span', class_=\"\")\n",
    "substring = 'Войти'\n",
    "ingr_list = []\n",
    "for i in range(len(page_recipe)):\n",
    "    string = str(page_recipe[i])\n",
    "    isSubstringPresent = substring in string\n",
    "    isCyrillic = bool(re.search('[а-яА-Я]', string))\n",
    "    if not isSubstringPresent and isCyrillic:\n",
    "        ingr_list.append(string[15:-7])\n",
    "ingr_list\n"
   ]
  },
  {
   "cell_type": "code",
   "execution_count": 6,
   "metadata": {},
   "outputs": [
    {
     "data": {
      "text/plain": [
       "[None,\n",
       " None,\n",
       " 'Вода (или бульон) - 2-2,5 л',\n",
       " 'Свекла - 1 шт.',\n",
       " 'Фасоль - 0,5 стакана',\n",
       " 'Капуста белокочанная - 200-300 г',\n",
       " 'Лук репчатый - 1 шт.',\n",
       " 'Морковь - 1 шт.',\n",
       " 'Картофель - 2-3 шт.',\n",
       " 'Корень сельдерея - 50 г',\n",
       " 'Корень петрушки - 50 г',\n",
       " 'Чернослив - 6-8 шт.',\n",
       " 'Томатная паста - 1-2 ст. ложки',\n",
       " 'Перец черный молотый - по вкусу',\n",
       " 'Соль - по вкусу',\n",
       " 'Перец сладкий - 0,5-1 шт.',\n",
       " 'Сахар - 1 ч. ложка',\n",
       " 'Лавровый лист - 1 шт.',\n",
       " 'Зелень - по вкусу',\n",
       " 'Растительное масло - 6 ст. ложек',\n",
       " '\\xa0',\n",
       " '(41)']"
      ]
     },
     "execution_count": 6,
     "metadata": {},
     "output_type": "execute_result"
    }
   ],
   "source": [
    "page_recipe = page.find_all('span', class_=\"\")\n",
    "substring = 'Войти'\n",
    "ingr_list = []\n",
    "for i in range(len(page_recipe)):\n",
    "    ingr_list.append(page_recipe[i].string)\n",
    "ingr_list\n"
   ]
  },
  {
   "cell_type": "code",
   "execution_count": null,
   "metadata": {},
   "outputs": [
    {
     "data": {
      "text/plain": [
       "'Вода (или бульон) - 2-2,5 л'"
      ]
     },
     "execution_count": 101,
     "metadata": {},
     "output_type": "execute_result"
    }
   ],
   "source": [
    "page_recipe[2].string"
   ]
  },
  {
   "cell_type": "code",
   "execution_count": null,
   "metadata": {},
   "outputs": [
    {
     "data": {
      "text/plain": [
       "{'Вода (или бульон)': '2-2,5 л',\n",
       " 'Свекла': '1 шт.',\n",
       " 'Фасоль': '0,5 стакана',\n",
       " 'Капуста белокочанная': '200-300 г',\n",
       " 'Лук репчатый': '1 шт.',\n",
       " 'Морковь': '1 шт.',\n",
       " 'Картофель': '2-3 шт.',\n",
       " 'Корень сельдерея': '50 г',\n",
       " 'Корень петрушки': '50 г',\n",
       " 'Чернослив': '6-8 шт.',\n",
       " 'Томатная паста': '1-2 ст. ложки',\n",
       " 'Перец черный молотый': 'по вкусу',\n",
       " 'Соль': 'по вкусу',\n",
       " 'Перец сладкий': '0,5-1 шт.',\n",
       " 'Сахар': '1 ч. ложка',\n",
       " 'Лавровый лист': '1 шт.',\n",
       " 'Зелень': 'по вкусу',\n",
       " 'Растительное масло': '6 ст. ложек'}"
      ]
     },
     "execution_count": 104,
     "metadata": {},
     "output_type": "execute_result"
    }
   ],
   "source": [
    "d = {}\n",
    "for line in ingr_list[2:-2]:\n",
    "    k, v = line.split(' - ')\n",
    "    d[k] = v\n",
    "d"
   ]
  }
 ],
 "metadata": {
  "kernelspec": {
   "display_name": "Python 3",
   "language": "python",
   "name": "python3"
  },
  "language_info": {
   "codemirror_mode": {
    "name": "ipython",
    "version": 3
   },
   "file_extension": ".py",
   "mimetype": "text/x-python",
   "name": "python",
   "nbconvert_exporter": "python",
   "pygments_lexer": "ipython3",
   "version": "3.8.10"
  },
  "orig_nbformat": 4,
  "vscode": {
   "interpreter": {
    "hash": "31f2aee4e71d21fbe5cf8b01ff0e069b9275f58929596ceb00d14d90e3e16cd6"
   }
  }
 },
 "nbformat": 4,
 "nbformat_minor": 2
}
