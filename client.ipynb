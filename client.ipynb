{
 "cells": [
  {
   "cell_type": "code",
   "execution_count": 3,
   "id": "c5e91e16",
   "metadata": {},
   "outputs": [
    {
     "name": "stdout",
     "output_type": "stream",
     "text": [
      "Sending request\n",
      "{'ingredients': {'Вода ': '1,5 литра.', 'Вода тёплая': '250 мл.', 'Картофель': '3 шт.', 'Красная чечевица': '50 гр.', 'Лук': '1/4 часть', 'Морковь': '1/2 часть', 'Соль, перец': 'по вкусу, 1/4 лимона, укроп', 'Сёмга или другая красная рыба': '200-300 гр.', 'Томат': '1 шт.'}, 'recipe_id': '1', 'recipe_name': 'Суп из сёмги с красной чечевицей рецепт на 3 порции (Европейская кухня)', 'text': 'Рыбу, картофель лук и помидор нарезать кубиками.В холодную воду добавить картофель, рыбу и чечевицу. Довести до кипения и немного проварить. Посолить.В сковороде, смазанной маслом, обжарить лук, морковь, помидор.За 10 минут до окончания варки добавить в суп обжаренные овощи, посолить, поперчить по вкусу.Можно так же добавить лавровый лист, но я ее тоже не сильно люблю, как и лук, поэтому не добавляю. И без нее очень-очень вкусно!За пару минут до окончания варки добавить нарезанный укроп и четвертинку сока лимона. Подавать горячим.'}\n"
     ]
    }
   ],
   "source": [
    "import requests\n",
    "print('Sending request')\n",
    "res = requests.post('http://localhost:5000/api/add_message'\n",
    "                    , json={\"food\":\"Суп из сёмги с красной чечевицей рецепт на 3 порции (Европейская кухня)\"})\n",
    "if res.ok:\n",
    "    print(res.json())\n",
    "else: \n",
    "    print('ERROR')"
   ]
  },
  {
   "cell_type": "code",
   "execution_count": 4,
   "id": "51a3cb36",
   "metadata": {},
   "outputs": [
    {
     "name": "stdout",
     "output_type": "stream",
     "text": [
      "Sending request\n",
      "{'ingredients': {'Кабачки': '250 гр.', 'Куриное филе': '500 гр.', 'Лук': '180 гр.', 'Майонез': '70 гр.', 'Соль': '3 гр.', 'Специи': 'по вкусу', 'Сыр': '150 гр.', 'Чеснок': '3 зуб.'}, 'recipe_id': '0', 'recipe_name': 'Курица с кабачками в духовке рецепт на 4 порции (Европейская кухня)', 'text': 'Куриное филе нарезать тонкими ломтиками, после чего хорошо отбить. Кабачок промыть и нарезать колечками потоньше, тоже самое сделать и с луком.Пропустить через пресс чеснок, затем смешать его со специями, солью, и майонезом. Обязательно сделать это в отдельной емкости.Смазать растительным маслом форму для запекания, после чего выложить в ней сначала политый соусом слой из курицы, затем выложить лук, далее кабачки. Смазать остатками соуса из майонеза и отправить форму на пятнадцать минут в разогретую до 180 градусов духовку.Когда блюдо запечется, достать форму и посыпать тертым сыром, и, для образования сырной корочки, отправить в духовку еще на 10 минут.Теперь блюдо можно подавать на стол.'}\n"
     ]
    }
   ],
   "source": [
    "print('Sending request')\n",
    "res = requests.post('http://localhost:5000/api/add_message'\n",
    "                    , json={\"food\":\"Курица с кабачками в духовке рецепт на 4 порции (Европейская кухня)\"})\n",
    "if res.ok:\n",
    "    print(res.json())\n",
    "else: \n",
    "    print('ERROR')"
   ]
  },
  {
   "cell_type": "code",
   "execution_count": 6,
   "id": "97ab3b02",
   "metadata": {},
   "outputs": [
    {
     "name": "stdout",
     "output_type": "stream",
     "text": [
      "Sending request\n",
      "{'recipe': 'SVEKLU V KASTRULU KIN EPTA I VOT TEBE BORSCH S GOVNOM'}\n"
     ]
    }
   ],
   "source": [
    "print('Sending request')\n",
    "res = requests.post('http://localhost:5000/api/add_message'\n",
    "                    , json={\"food\":\"BORSCH S GOVNOM\"})\n",
    "if res.ok:\n",
    "    print(res.json())\n",
    "else: \n",
    "    print('ERROR')"
   ]
  }
 ],
 "metadata": {
  "kernelspec": {
   "display_name": "Python 3 (ipykernel)",
   "language": "python",
   "name": "python3"
  },
  "language_info": {
   "codemirror_mode": {
    "name": "ipython",
    "version": 3
   },
   "file_extension": ".py",
   "mimetype": "text/x-python",
   "name": "python",
   "nbconvert_exporter": "python",
   "pygments_lexer": "ipython3",
   "version": "3.9.12"
  }
 },
 "nbformat": 4,
 "nbformat_minor": 5
}
